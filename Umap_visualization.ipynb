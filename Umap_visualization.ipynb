{
  "nbformat": 4,
  "nbformat_minor": 0,
  "metadata": {
    "colab": {
      "provenance": []
    },
    "kernelspec": {
      "name": "python3",
      "display_name": "Python 3"
    },
    "language_info": {
      "name": "python"
    }
  },
  "cells": [
    {
      "cell_type": "code",
      "execution_count": null,
      "metadata": {
        "id": "_qMfDjoCG-_Y"
      },
      "outputs": [],
      "source": [
        "!pip install umap-learn\n"
      ]
    },
    {
      "cell_type": "code",
      "source": [
        "import pandas as pd\n",
        "import numpy as np\n",
        "import matplotlib.pyplot as plt\n",
        "import seaborn as sns; sns.set()\n",
        "import warnings\n",
        "from sklearn.feature_selection import RFE, SelectKBest, chi2\n",
        "from sklearn.decomposition import PCA\n",
        "from sklearn.preprocessing import StandardScaler\n",
        "from sklearn.linear_model import LogisticRegression\n",
        "from sklearn.ensemble import RandomForestClassifier\n",
        "import statsmodels.api as sm\n",
        "import scipy.stats as ss\n",
        "import joblib\n",
        "from mlxtend.feature_selection import SequentialFeatureSelector\n",
        "from umap import UMAP"
      ],
      "metadata": {
        "id": "sbOzw71HHDle"
      },
      "execution_count": null,
      "outputs": []
    },
    {
      "cell_type": "code",
      "source": [
        "#Connecting to google drive\n",
        "from google.colab import drive\n",
        "drive.mount('/content/drive')"
      ],
      "metadata": {
        "id": "2p01qWUTHDoM"
      },
      "execution_count": null,
      "outputs": []
    },
    {
      "cell_type": "code",
      "source": [
        "# Load the CSV data\n",
        "path_df = '/content/drive/MyDrive/Bioscience_Project/draw_df.csv'\n",
        "df = pd.read_csv(path_df)\n",
        "df_filtered = df[df['activity'] == 'spiral'] # change for obteining a visualization for wave variable"
      ],
      "metadata": {
        "id": "mfbyriuKHDrf"
      },
      "execution_count": null,
      "outputs": []
    },
    {
      "cell_type": "code",
      "source": [
        "def convert_to_binary(disease):\n",
        "    if disease == 'parkinson':\n",
        "        return 1\n",
        "    else:\n",
        "        return 0\n",
        "\n",
        "# Apply the function to create the \"disease_binary\" column\n",
        "df_filtered['y'] = df_filtered['disease'].apply(convert_to_binary)\n",
        "y = df_filtered['y']"
      ],
      "metadata": {
        "id": "W5TJ85HVHDuG"
      },
      "execution_count": null,
      "outputs": []
    },
    {
      "cell_type": "code",
      "source": [
        "selected_columns = [\n",
        "    'mean_thickness',\n",
        "    'std_thickness',\n",
        "    'endpoints',\n",
        "    'branch_points',\n",
        "    'avg_segment_length',\n",
        "    'total_skeleton_length',\n",
        "    'intersection_density',\n",
        "    'endpoint_density',\n",
        "    'intersection_to_endpoint_ratio',\n",
        "    'avg_gray_intensity',\n",
        "    'gray_std_dev',\n",
        "    'entropy',\n",
        "    'contrast',\n",
        "    'dissimilarity',\n",
        "    'homogeneity',\n",
        "    'energy',\n",
        "    'correlation',\n",
        "    'average_curvature',\n",
        "    'curvature_change'\n",
        "]\n",
        "\n",
        "\n",
        "# Extract the selected columns and target variable\n",
        "X = df_filtered[selected_columns]"
      ],
      "metadata": {
        "id": "jT5PbM3QHQsH"
      },
      "execution_count": null,
      "outputs": []
    },
    {
      "cell_type": "code",
      "source": [
        "Xs = pd.DataFrame(StandardScaler().fit_transform(X), columns=X.columns)"
      ],
      "metadata": {
        "id": "6m-I55zOHQv8"
      },
      "execution_count": null,
      "outputs": []
    },
    {
      "cell_type": "code",
      "source": [
        "# Crea l'oggetto UMAP con i parametri desiderati\n",
        "ump = UMAP(n_neighbors=30, min_dist=0.2, verbose=True)\n",
        "\n",
        "# Adatta il modello UMAP ai tuoi dati (supponendo che Xs sia il tuo set di dati e y sia la variabile target)\n",
        "Xumap = ump.fit_transform(Xs,y)\n",
        "\n",
        "# Crea uno scatter plot basato su UMAP con colori diversi per le classi 0 e 1\n",
        "plt.scatter(Xumap[y == 0, 0], Xumap[y == 0, 1], label='Classe 0', alpha=0.5)\n",
        "plt.scatter(Xumap[y == 1, 0], Xumap[y == 1, 1], label='Classe 1', alpha=0.5)\n",
        "plt.title('UMAP Scatter Plot')\n",
        "plt.xlabel('UMAP Dimension 1')\n",
        "plt.ylabel('UMAP Dimension 2')\n",
        "plt.legend()\n",
        "plt.show()"
      ],
      "metadata": {
        "id": "IXQfkssHHQ03"
      },
      "execution_count": null,
      "outputs": []
    }
  ]
}